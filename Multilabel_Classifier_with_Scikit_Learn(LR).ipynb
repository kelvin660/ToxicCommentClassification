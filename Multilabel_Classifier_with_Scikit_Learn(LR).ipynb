{
  "cells": [
    {
      "cell_type": "code",
      "execution_count": 1,
      "id": "1258bd67",
      "metadata": {
        "id": "1258bd67",
        "outputId": "e3264830-6493-428f-bc4f-5518d57e59e0",
        "colab": {
          "base_uri": "https://localhost:8080/"
        }
      },
      "outputs": [
        {
          "output_type": "stream",
          "name": "stdout",
          "text": [
            "Requirement already satisfied: tensorflow in /usr/local/lib/python3.10/dist-packages (2.15.0)\n",
            "Collecting tensorflow-gpu\n",
            "  Downloading tensorflow-gpu-2.12.0.tar.gz (2.6 kB)\n",
            "  \u001b[1;31merror\u001b[0m: \u001b[1msubprocess-exited-with-error\u001b[0m\n",
            "  \n",
            "  \u001b[31m×\u001b[0m \u001b[32mpython setup.py egg_info\u001b[0m did not run successfully.\n",
            "  \u001b[31m│\u001b[0m exit code: \u001b[1;36m1\u001b[0m\n",
            "  \u001b[31m╰─>\u001b[0m See above for output.\n",
            "  \n",
            "  \u001b[1;35mnote\u001b[0m: This error originates from a subprocess, and is likely not a problem with pip.\n",
            "  Preparing metadata (setup.py) ... \u001b[?25l\u001b[?25herror\n",
            "\u001b[1;31merror\u001b[0m: \u001b[1mmetadata-generation-failed\u001b[0m\n",
            "\n",
            "\u001b[31m×\u001b[0m Encountered error while generating package metadata.\n",
            "\u001b[31m╰─>\u001b[0m See above for output.\n",
            "\n",
            "\u001b[1;35mnote\u001b[0m: This is an issue with the package mentioned above, not pip.\n",
            "\u001b[1;36mhint\u001b[0m: See above for details.\n",
            "Collecting scikit-multilearn\n",
            "  Downloading scikit_multilearn-0.2.0-py3-none-any.whl (89 kB)\n",
            "\u001b[2K     \u001b[90m━━━━━━━━━━━━━━━━━━━━━━━━━━━━━━━━━━━━━━━━\u001b[0m \u001b[32m89.4/89.4 kB\u001b[0m \u001b[31m1.3 MB/s\u001b[0m eta \u001b[36m0:00:00\u001b[0m\n",
            "\u001b[?25hInstalling collected packages: scikit-multilearn\n",
            "Successfully installed scikit-multilearn-0.2.0\n"
          ]
        }
      ],
      "source": [
        "!pip install tensorflow tensorflow-gpu pandas matplotlib sklearn\n",
        "!pip install scikit-multilearn"
      ]
    },
    {
      "cell_type": "code",
      "execution_count": 2,
      "id": "5cdec298",
      "metadata": {
        "id": "5cdec298",
        "colab": {
          "base_uri": "https://localhost:8080/"
        },
        "outputId": "1a234e67-4854-447b-df28-f9d5014b89ba"
      },
      "outputs": [
        {
          "output_type": "stream",
          "name": "stderr",
          "text": [
            "[nltk_data] Downloading package punkt to /root/nltk_data...\n",
            "[nltk_data]   Unzipping tokenizers/punkt.zip.\n"
          ]
        }
      ],
      "source": [
        "import os\n",
        "import pandas as pd\n",
        "import tensorflow as tf\n",
        "import numpy as np\n",
        "import nltk\n",
        "from nltk.stem.porter import PorterStemmer\n",
        "nltk.download('punkt')\n",
        "\n",
        "from sklearn.metrics import classification_report\n",
        "\n",
        "import pickle\n",
        "\n",
        "import matplotlib.pyplot as plt\n",
        "import seaborn as sns\n",
        "\n",
        "import re\n",
        "from nltk.corpus import stopwords\n",
        "from sklearn.feature_extraction.text import TfidfVectorizer\n",
        "from wordcloud import WordCloud,STOPWORDS\n",
        "from nltk.stem.snowball import SnowballStemmer\n",
        "from sklearn.model_selection import train_test_split\n",
        "from sklearn.feature_extraction.text import TfidfTransformer\n",
        "from sklearn.feature_extraction.text import TfidfVectorizer\n",
        "from sklearn.feature_extraction.text import CountVectorizer\n",
        "from sklearn.naive_bayes import MultinomialNB\n",
        "from sklearn.metrics import accuracy_score\n",
        "from sklearn.multiclass import OneVsRestClassifier\n",
        "from sklearn.svm import LinearSVC\n",
        "from sklearn.linear_model import LogisticRegression\n",
        "from sklearn.pipeline import Pipeline\n",
        "from sklearn.preprocessing import MultiLabelBinarizer\n",
        "from sklearn.metrics import f1_score\n",
        "from sklearn.metrics import hamming_loss\n",
        "from skmultilearn.problem_transform import BinaryRelevance\n",
        "from sklearn.naive_bayes import MultinomialNB\n",
        "from skmultilearn.problem_transform import ClassifierChain\n",
        "from skmultilearn.problem_transform import LabelPowerset"
      ]
    },
    {
      "cell_type": "code",
      "source": [
        "from google.colab import drive\n",
        "drive.mount('/content/drive')"
      ],
      "metadata": {
        "colab": {
          "base_uri": "https://localhost:8080/"
        },
        "id": "7e9tLXvWdmO0",
        "outputId": "9bda8711-2431-4c6d-afa6-77025e51b657"
      },
      "id": "7e9tLXvWdmO0",
      "execution_count": 3,
      "outputs": [
        {
          "output_type": "stream",
          "name": "stdout",
          "text": [
            "Mounted at /content/drive\n"
          ]
        }
      ]
    },
    {
      "cell_type": "code",
      "execution_count": 4,
      "id": "bf9187e4",
      "metadata": {
        "id": "bf9187e4"
      },
      "outputs": [],
      "source": [
        "path = \"/content/drive/MyDrive/final_year_project/dataset/test.csv\"\n",
        "df = pd.read_csv(path)"
      ]
    },
    {
      "cell_type": "code",
      "execution_count": 5,
      "id": "2409bc16",
      "metadata": {
        "colab": {
          "base_uri": "https://localhost:8080/",
          "height": 206
        },
        "id": "2409bc16",
        "outputId": "61ee92db-f235-4f86-8065-91457386dc40"
      },
      "outputs": [
        {
          "output_type": "execute_result",
          "data": {
            "text/plain": [
              "                                             comment  toxic  severe_toxic  \\\n",
              "0            sebelum anda kencing di atas kerja saya      1             1   \n",
              "1  Anda, tuan, adalah wira saya. ada peluang anda...      0             0   \n",
              "2  tahniah dari saya juga, gunakan alat dengan ba...      0             0   \n",
              "3  penjajaran mengenai subjek ini dan yang berten...      0             0   \n",
              "4  d'aww! dia sepadan dengan warna latar belakang...      0             0   \n",
              "\n",
              "   obscene  threat  insult  identity_hate  \n",
              "0        1       0       1              0  \n",
              "1        0       0       0              0  \n",
              "2        0       0       0              0  \n",
              "3        0       0       0              0  \n",
              "4        0       0       0              0  "
            ],
            "text/html": [
              "\n",
              "  <div id=\"df-3f1ed7d6-8155-4b11-b114-95e35d541f84\" class=\"colab-df-container\">\n",
              "    <div>\n",
              "<style scoped>\n",
              "    .dataframe tbody tr th:only-of-type {\n",
              "        vertical-align: middle;\n",
              "    }\n",
              "\n",
              "    .dataframe tbody tr th {\n",
              "        vertical-align: top;\n",
              "    }\n",
              "\n",
              "    .dataframe thead th {\n",
              "        text-align: right;\n",
              "    }\n",
              "</style>\n",
              "<table border=\"1\" class=\"dataframe\">\n",
              "  <thead>\n",
              "    <tr style=\"text-align: right;\">\n",
              "      <th></th>\n",
              "      <th>comment</th>\n",
              "      <th>toxic</th>\n",
              "      <th>severe_toxic</th>\n",
              "      <th>obscene</th>\n",
              "      <th>threat</th>\n",
              "      <th>insult</th>\n",
              "      <th>identity_hate</th>\n",
              "    </tr>\n",
              "  </thead>\n",
              "  <tbody>\n",
              "    <tr>\n",
              "      <th>0</th>\n",
              "      <td>sebelum anda kencing di atas kerja saya</td>\n",
              "      <td>1</td>\n",
              "      <td>1</td>\n",
              "      <td>1</td>\n",
              "      <td>0</td>\n",
              "      <td>1</td>\n",
              "      <td>0</td>\n",
              "    </tr>\n",
              "    <tr>\n",
              "      <th>1</th>\n",
              "      <td>Anda, tuan, adalah wira saya. ada peluang anda...</td>\n",
              "      <td>0</td>\n",
              "      <td>0</td>\n",
              "      <td>0</td>\n",
              "      <td>0</td>\n",
              "      <td>0</td>\n",
              "      <td>0</td>\n",
              "    </tr>\n",
              "    <tr>\n",
              "      <th>2</th>\n",
              "      <td>tahniah dari saya juga, gunakan alat dengan ba...</td>\n",
              "      <td>0</td>\n",
              "      <td>0</td>\n",
              "      <td>0</td>\n",
              "      <td>0</td>\n",
              "      <td>0</td>\n",
              "      <td>0</td>\n",
              "    </tr>\n",
              "    <tr>\n",
              "      <th>3</th>\n",
              "      <td>penjajaran mengenai subjek ini dan yang berten...</td>\n",
              "      <td>0</td>\n",
              "      <td>0</td>\n",
              "      <td>0</td>\n",
              "      <td>0</td>\n",
              "      <td>0</td>\n",
              "      <td>0</td>\n",
              "    </tr>\n",
              "    <tr>\n",
              "      <th>4</th>\n",
              "      <td>d'aww! dia sepadan dengan warna latar belakang...</td>\n",
              "      <td>0</td>\n",
              "      <td>0</td>\n",
              "      <td>0</td>\n",
              "      <td>0</td>\n",
              "      <td>0</td>\n",
              "      <td>0</td>\n",
              "    </tr>\n",
              "  </tbody>\n",
              "</table>\n",
              "</div>\n",
              "    <div class=\"colab-df-buttons\">\n",
              "\n",
              "  <div class=\"colab-df-container\">\n",
              "    <button class=\"colab-df-convert\" onclick=\"convertToInteractive('df-3f1ed7d6-8155-4b11-b114-95e35d541f84')\"\n",
              "            title=\"Convert this dataframe to an interactive table.\"\n",
              "            style=\"display:none;\">\n",
              "\n",
              "  <svg xmlns=\"http://www.w3.org/2000/svg\" height=\"24px\" viewBox=\"0 -960 960 960\">\n",
              "    <path d=\"M120-120v-720h720v720H120Zm60-500h600v-160H180v160Zm220 220h160v-160H400v160Zm0 220h160v-160H400v160ZM180-400h160v-160H180v160Zm440 0h160v-160H620v160ZM180-180h160v-160H180v160Zm440 0h160v-160H620v160Z\"/>\n",
              "  </svg>\n",
              "    </button>\n",
              "\n",
              "  <style>\n",
              "    .colab-df-container {\n",
              "      display:flex;\n",
              "      gap: 12px;\n",
              "    }\n",
              "\n",
              "    .colab-df-convert {\n",
              "      background-color: #E8F0FE;\n",
              "      border: none;\n",
              "      border-radius: 50%;\n",
              "      cursor: pointer;\n",
              "      display: none;\n",
              "      fill: #1967D2;\n",
              "      height: 32px;\n",
              "      padding: 0 0 0 0;\n",
              "      width: 32px;\n",
              "    }\n",
              "\n",
              "    .colab-df-convert:hover {\n",
              "      background-color: #E2EBFA;\n",
              "      box-shadow: 0px 1px 2px rgba(60, 64, 67, 0.3), 0px 1px 3px 1px rgba(60, 64, 67, 0.15);\n",
              "      fill: #174EA6;\n",
              "    }\n",
              "\n",
              "    .colab-df-buttons div {\n",
              "      margin-bottom: 4px;\n",
              "    }\n",
              "\n",
              "    [theme=dark] .colab-df-convert {\n",
              "      background-color: #3B4455;\n",
              "      fill: #D2E3FC;\n",
              "    }\n",
              "\n",
              "    [theme=dark] .colab-df-convert:hover {\n",
              "      background-color: #434B5C;\n",
              "      box-shadow: 0px 1px 3px 1px rgba(0, 0, 0, 0.15);\n",
              "      filter: drop-shadow(0px 1px 2px rgba(0, 0, 0, 0.3));\n",
              "      fill: #FFFFFF;\n",
              "    }\n",
              "  </style>\n",
              "\n",
              "    <script>\n",
              "      const buttonEl =\n",
              "        document.querySelector('#df-3f1ed7d6-8155-4b11-b114-95e35d541f84 button.colab-df-convert');\n",
              "      buttonEl.style.display =\n",
              "        google.colab.kernel.accessAllowed ? 'block' : 'none';\n",
              "\n",
              "      async function convertToInteractive(key) {\n",
              "        const element = document.querySelector('#df-3f1ed7d6-8155-4b11-b114-95e35d541f84');\n",
              "        const dataTable =\n",
              "          await google.colab.kernel.invokeFunction('convertToInteractive',\n",
              "                                                    [key], {});\n",
              "        if (!dataTable) return;\n",
              "\n",
              "        const docLinkHtml = 'Like what you see? Visit the ' +\n",
              "          '<a target=\"_blank\" href=https://colab.research.google.com/notebooks/data_table.ipynb>data table notebook</a>'\n",
              "          + ' to learn more about interactive tables.';\n",
              "        element.innerHTML = '';\n",
              "        dataTable['output_type'] = 'display_data';\n",
              "        await google.colab.output.renderOutput(dataTable, element);\n",
              "        const docLink = document.createElement('div');\n",
              "        docLink.innerHTML = docLinkHtml;\n",
              "        element.appendChild(docLink);\n",
              "      }\n",
              "    </script>\n",
              "  </div>\n",
              "\n",
              "\n",
              "<div id=\"df-7ccac693-7c0c-4ee1-a484-fc8cf24c3d39\">\n",
              "  <button class=\"colab-df-quickchart\" onclick=\"quickchart('df-7ccac693-7c0c-4ee1-a484-fc8cf24c3d39')\"\n",
              "            title=\"Suggest charts\"\n",
              "            style=\"display:none;\">\n",
              "\n",
              "<svg xmlns=\"http://www.w3.org/2000/svg\" height=\"24px\"viewBox=\"0 0 24 24\"\n",
              "     width=\"24px\">\n",
              "    <g>\n",
              "        <path d=\"M19 3H5c-1.1 0-2 .9-2 2v14c0 1.1.9 2 2 2h14c1.1 0 2-.9 2-2V5c0-1.1-.9-2-2-2zM9 17H7v-7h2v7zm4 0h-2V7h2v10zm4 0h-2v-4h2v4z\"/>\n",
              "    </g>\n",
              "</svg>\n",
              "  </button>\n",
              "\n",
              "<style>\n",
              "  .colab-df-quickchart {\n",
              "      --bg-color: #E8F0FE;\n",
              "      --fill-color: #1967D2;\n",
              "      --hover-bg-color: #E2EBFA;\n",
              "      --hover-fill-color: #174EA6;\n",
              "      --disabled-fill-color: #AAA;\n",
              "      --disabled-bg-color: #DDD;\n",
              "  }\n",
              "\n",
              "  [theme=dark] .colab-df-quickchart {\n",
              "      --bg-color: #3B4455;\n",
              "      --fill-color: #D2E3FC;\n",
              "      --hover-bg-color: #434B5C;\n",
              "      --hover-fill-color: #FFFFFF;\n",
              "      --disabled-bg-color: #3B4455;\n",
              "      --disabled-fill-color: #666;\n",
              "  }\n",
              "\n",
              "  .colab-df-quickchart {\n",
              "    background-color: var(--bg-color);\n",
              "    border: none;\n",
              "    border-radius: 50%;\n",
              "    cursor: pointer;\n",
              "    display: none;\n",
              "    fill: var(--fill-color);\n",
              "    height: 32px;\n",
              "    padding: 0;\n",
              "    width: 32px;\n",
              "  }\n",
              "\n",
              "  .colab-df-quickchart:hover {\n",
              "    background-color: var(--hover-bg-color);\n",
              "    box-shadow: 0 1px 2px rgba(60, 64, 67, 0.3), 0 1px 3px 1px rgba(60, 64, 67, 0.15);\n",
              "    fill: var(--button-hover-fill-color);\n",
              "  }\n",
              "\n",
              "  .colab-df-quickchart-complete:disabled,\n",
              "  .colab-df-quickchart-complete:disabled:hover {\n",
              "    background-color: var(--disabled-bg-color);\n",
              "    fill: var(--disabled-fill-color);\n",
              "    box-shadow: none;\n",
              "  }\n",
              "\n",
              "  .colab-df-spinner {\n",
              "    border: 2px solid var(--fill-color);\n",
              "    border-color: transparent;\n",
              "    border-bottom-color: var(--fill-color);\n",
              "    animation:\n",
              "      spin 1s steps(1) infinite;\n",
              "  }\n",
              "\n",
              "  @keyframes spin {\n",
              "    0% {\n",
              "      border-color: transparent;\n",
              "      border-bottom-color: var(--fill-color);\n",
              "      border-left-color: var(--fill-color);\n",
              "    }\n",
              "    20% {\n",
              "      border-color: transparent;\n",
              "      border-left-color: var(--fill-color);\n",
              "      border-top-color: var(--fill-color);\n",
              "    }\n",
              "    30% {\n",
              "      border-color: transparent;\n",
              "      border-left-color: var(--fill-color);\n",
              "      border-top-color: var(--fill-color);\n",
              "      border-right-color: var(--fill-color);\n",
              "    }\n",
              "    40% {\n",
              "      border-color: transparent;\n",
              "      border-right-color: var(--fill-color);\n",
              "      border-top-color: var(--fill-color);\n",
              "    }\n",
              "    60% {\n",
              "      border-color: transparent;\n",
              "      border-right-color: var(--fill-color);\n",
              "    }\n",
              "    80% {\n",
              "      border-color: transparent;\n",
              "      border-right-color: var(--fill-color);\n",
              "      border-bottom-color: var(--fill-color);\n",
              "    }\n",
              "    90% {\n",
              "      border-color: transparent;\n",
              "      border-bottom-color: var(--fill-color);\n",
              "    }\n",
              "  }\n",
              "</style>\n",
              "\n",
              "  <script>\n",
              "    async function quickchart(key) {\n",
              "      const quickchartButtonEl =\n",
              "        document.querySelector('#' + key + ' button');\n",
              "      quickchartButtonEl.disabled = true;  // To prevent multiple clicks.\n",
              "      quickchartButtonEl.classList.add('colab-df-spinner');\n",
              "      try {\n",
              "        const charts = await google.colab.kernel.invokeFunction(\n",
              "            'suggestCharts', [key], {});\n",
              "      } catch (error) {\n",
              "        console.error('Error during call to suggestCharts:', error);\n",
              "      }\n",
              "      quickchartButtonEl.classList.remove('colab-df-spinner');\n",
              "      quickchartButtonEl.classList.add('colab-df-quickchart-complete');\n",
              "    }\n",
              "    (() => {\n",
              "      let quickchartButtonEl =\n",
              "        document.querySelector('#df-7ccac693-7c0c-4ee1-a484-fc8cf24c3d39 button');\n",
              "      quickchartButtonEl.style.display =\n",
              "        google.colab.kernel.accessAllowed ? 'block' : 'none';\n",
              "    })();\n",
              "  </script>\n",
              "</div>\n",
              "\n",
              "    </div>\n",
              "  </div>\n"
            ]
          },
          "metadata": {},
          "execution_count": 5
        }
      ],
      "source": [
        "df.head()"
      ]
    },
    {
      "cell_type": "code",
      "source": [
        "# Text preprocessing\n",
        "stopwords_list= [\"abdul\",\"abdullah\",\"acara\",\"anda\",\"ada\",\"adalah\",\"ahmad\",\"air\",\"akan\",\"akhbar\",\"akhir\",\"aktiviti\",\"alam\",\"amat\",\"amerika\",\"anak\",\"anggota\",\"antara\",\"antarabangsa\",\"apa\",\"apabila\",\"april\",\"as\",\"asas\",\"asing\",\"atas\",\"atau\",\"australia\",\"awal\",\"awam\",\"bagaimanapun\",\"bagi\",\"bahagian\",\"bahan\",\"baharu\",\"bahawa\",\"baik\",\"bandar\",\"bank\",\"banyak\",\"barangan\",\"baru\",\"baru-baru\",\"bawah\",\"beberapa\",\"bekas\",\"beliau\",\"belum\",\"berada\",\"berakhir\",\"berbanding\",\"berdasarkan\",\"berharap\",\"berikutan\",\"berjaya\",\"berjumlah\",\"berkaitan\",\"berkata\",\"berkenaan\",\"berlaku\",\"bermula\",\"bernama\",\"bernilai\",\"bersama\",\"berubah\",\"bhd\",\"bidang\",\"bilion\",\"bn\",\"boleh\",\"bukan\",\"bulan\",\"bursa\",\"cadangan\",\"dagangan\",\"dalam\",\"dan\",\"dana\",\"dapat\",\"dari\",\"daripada\",\"dasar\",\"datang\",\"demikian\",\"dengan\",\"depan\",\"derivatives\",\"dewan\",\"di\",\"diadakan\",\"dibuka\",\"dicatatkan\",\"dijangka\",\"diniagakan\",\"dis\",\"disember\",\"ditutup\",\"dolar\",\"dr\",\"dua\",\"dunia\",\"ekonomi\",\"eksekutif\",\"eksport\",\"empat\",\"enam\",\"faedah\",\"feb\",\"global\",\"hadapan\",\"hanya\",\"harga\",\"hari\",\"hasil\",\"hingga\",\"hubungan\",\"ia\",\"iaitu\",\"ialah\",\"indeks\",\"india\",\"indonesia\",\"industri\",\"ini\",\"islam\",\"isnin\",\"isu\",\"itu\",\"jabatan\",\"jalan\",\"jan\",\"jawatan\",\"jawatankuasa\",\"jepun\",\"jika\",\"jualan\",\"juga\",\"julai\",\"jumaat\",\"jumlah\",\"jun\",\"juta\",\"kadar\",\"kalangan\",\"kali\",\"kami\",\"kata\",\"katanya\",\"kaunter\",\"kawasan\",\"ke\",\"keadaan\",\"kecil\",\"kedua\",\"kedua-dua\",\"kedudukan\",\"kekal\",\"kementerian\",\"kemudahan\",\"kenaikan\",\"kenyataan\",\"kepada\",\"kepentingan\",\"keputusan\",\"kerajaan\",\"kerana\",\"kereta\",\"kerja\",\"kerjasama\",\"kes\",\"keselamatan\",\"keseluruhan\",\"kesihatan\",\"ketika\",\"ketua\",\"keuntungan\",\"kewangan\",\"khamis\",\"kini\",\"kira-kira\",\"kita\",\"klci\",\"klibor\",\"komposit\",\"kontrak\",\"kos\",\"kuala\",\"kuasa\",\"kukuh\",\"kumpulan\",\"lagi\",\"lain\",\"langkah\",\"laporan\",\"lebih\",\"lepas\",\"lima\",\"lot\",\"luar\",\"lumpur\",\"mac\",\"mahkamah\",\"mahu\",\"majlis\",\"makanan\",\"maklumat\",\"malam\",\"malaysia\",\"mana\",\"manakala\",\"masa\",\"masalah\",\"masih\",\"masing-masing\",\"masyarakat\",\"mata\",\"media\",\"mei\",\"melalui\",\"melihat\",\"memandangkan\",\"memastikan\",\"membantu\",\"membawa\",\"memberi\",\"memberikan\",\"membolehkan\",\"membuat\",\"mempunyai\",\"menambah\",\"menarik\",\"menawarkan\",\"mencapai\",\"mencatatkan\",\"mendapat\",\"mendapatkan\",\"menerima\",\"menerusi\",\"mengadakan\",\"mengambil\",\"mengenai\",\"menggalakkan\",\"menggunakan\",\"mengikut\",\"mengumumkan\",\"mengurangkan\",\"meningkat\",\"meningkatkan\",\"menjadi\",\"menjelang\",\"menokok\",\"menteri\",\"menunjukkan\",\"menurut\",\"menyaksikan\",\"menyediakan\",\"mereka\",\"merupakan\",\"mesyuarat\",\"minat\",\"minggu\",\"minyak\",\"modal\",\"mohd\",\"mudah\",\"mungkin\",\"naik\",\"najib\",\"nasional\",\"negara\",\"negara-negara\",\"negeri\",\"niaga\",\"nilai\",\"nov\",\"ogos\",\"okt\",\"oleh\",\"operasi\",\"orang\",\"pada\",\"pagi\",\"paling\",\"pameran\",\"papan\",\"para\",\"paras\",\"parlimen\",\"parti\",\"pasaran\",\"pasukan\",\"pegawai\",\"pejabat\",\"pekerja\",\"pelabur\",\"pelaburan\",\"pelancongan\",\"pelanggan\",\"pelbagai\",\"peluang\",\"pembangunan\",\"pemberita\",\"pembinaan\",\"pemimpin\",\"pendapatan\",\"pendidikan\",\"penduduk\",\"penerbangan\",\"pengarah\",\"pengeluaran\",\"pengerusi\",\"pengguna\",\"pengurusan\",\"peniaga\",\"peningkatan\",\"penting\",\"peratus\",\"perdagangan\",\"perdana\",\"peringkat\",\"perjanjian\",\"perkara\",\"perkhidmatan\",\"perladangan\",\"perlu\",\"permintaan\",\"perniagaan\",\"persekutuan\",\"persidangan\",\"pertama\",\"pertubuhan\",\"pertumbuhan\",\"perusahaan\",\"peserta\",\"petang\",\"pihak\",\"pilihan\",\"pinjaman\",\"polis\",\"politik\",\"presiden\",\"prestasi\",\"produk\",\"program\",\"projek\",\"proses\",\"proton\",\"pukul\",\"pula\",\"pusat\",\"rabu\",\"rakan\",\"rakyat\",\"ramai\",\"rantau\",\"raya\",\"rendah\",\"ringgit\",\"rumah\",\"sabah\",\"sahaja\",\"saham\",\"sama\",\"sarawak\",\"satu\",\"sawit\",\"saya\",\"sdn\",\"sebagai\",\"sebahagian\",\"sebanyak\",\"sebarang\",\"sebelum\",\"sebelumnya\",\"sebuah\",\"secara\",\"sedang\",\"segi\",\"sehingga\",\"sejak\",\"sekarang\",\"sektor\",\"sekuriti\",\"selain\",\"selama\",\"selasa\",\"selatan\",\"selepas\",\"seluruh\",\"semakin\",\"semalam\",\"semasa\",\"sementara\",\"semua\",\"semula\",\"sen\",\"sendiri\",\"seorang\",\"sepanjang\",\"seperti\",\"sept\",\"september\",\"serantau\",\"seri\",\"serta\",\"sesi\",\"setiap\",\"setiausaha\",\"sidang\",\"singapura\",\"sini\",\"sistem\",\"sokongan\",\"sri\",\"sudah\",\"sukan\",\"suku\",\"sumber\",\"supaya\",\"susut\",\"syarikat\",\"syed\",\"tahap\",\"tahun\",\"tan\",\"tanah\",\"tanpa\",\"tawaran\",\"teknologi\",\"telah\",\"tempat\",\"tempatan\",\"tempoh\",\"tenaga\",\"tengah\",\"tentang\",\"terbaik\",\"terbang\",\"terbesar\",\"terbuka\",\"terdapat\",\"terhadap\",\"termasuk\",\"tersebut\",\"terus\",\"tetapi\",\"thailand\",\"tiada\",\"tidak\",\"tiga\",\"timbalan\",\"timur\",\"tindakan\",\"tinggi\",\"tun\",\"tunai\",\"turun\",\"turut\",\"unit\",\"untuk\",\"untung\",\"urus\",\"usaha\",\"utama\",\"walaupun\",\"wang\",\"wilayah\",\"yang\"]\n",
        "\n",
        "\n",
        "def process_text(comment):\n",
        "   # Remove HTML tags\n",
        "    comment = re.sub('<.*?>', '', str(comment))\n",
        "    # Remove non-alphabetic characters and convert to lowercase\n",
        "    comment = re.sub('[^a-zA-Z]', ' ' , str(comment)).lower()\n",
        "    # Tokenize the text\n",
        "    words = nltk.word_tokenize(comment)\n",
        "    # Remove stopwords\n",
        "    words = [w for w in words if w not in stopwords_list]\n",
        "    # Join the words back into a string\n",
        "    comment = ' '.join(words)\n",
        "    return comment\n",
        "\n",
        "\n",
        "df['comment'] = df['comment'].apply(process_text)"
      ],
      "metadata": {
        "id": "yXC16-Fiuua0"
      },
      "id": "yXC16-Fiuua0",
      "execution_count": 6,
      "outputs": []
    },
    {
      "cell_type": "code",
      "execution_count": 7,
      "id": "9a0a0ec9",
      "metadata": {
        "id": "9a0a0ec9",
        "outputId": "fefac8dc-13d6-4ad9-dd55-7db26629e217",
        "colab": {
          "base_uri": "https://localhost:8080/"
        }
      },
      "outputs": [
        {
          "output_type": "execute_result",
          "data": {
            "text/plain": [
              "0                                              kencing\n",
              "1                              tuan wira ingat halaman\n",
              "2                        tahniah gunakan alat bercakap\n",
              "3             penjajaran subjek bertentangan dulithgow\n",
              "4    d aww dia sepadan warna latar belakang seolah ...\n",
              "Name: comment, dtype: object"
            ]
          },
          "metadata": {},
          "execution_count": 7
        }
      ],
      "source": [
        "df['comment'][:5]"
      ]
    },
    {
      "cell_type": "code",
      "source": [
        "X = df[\"comment\"]\n",
        "y = np.asarray(df[df.columns[1:]])\n",
        "vectorizer = TfidfVectorizer(max_features=2500, max_df=0.9)\n",
        "vectorizer.fit(X)"
      ],
      "metadata": {
        "colab": {
          "base_uri": "https://localhost:8080/",
          "height": 75
        },
        "id": "RW9O5zEZC4pX",
        "outputId": "f3c1552b-8257-456e-cb9e-dead3c698700"
      },
      "id": "RW9O5zEZC4pX",
      "execution_count": 8,
      "outputs": [
        {
          "output_type": "execute_result",
          "data": {
            "text/plain": [
              "TfidfVectorizer(max_df=0.9, max_features=2500)"
            ],
            "text/html": [
              "<style>#sk-container-id-1 {color: black;background-color: white;}#sk-container-id-1 pre{padding: 0;}#sk-container-id-1 div.sk-toggleable {background-color: white;}#sk-container-id-1 label.sk-toggleable__label {cursor: pointer;display: block;width: 100%;margin-bottom: 0;padding: 0.3em;box-sizing: border-box;text-align: center;}#sk-container-id-1 label.sk-toggleable__label-arrow:before {content: \"▸\";float: left;margin-right: 0.25em;color: #696969;}#sk-container-id-1 label.sk-toggleable__label-arrow:hover:before {color: black;}#sk-container-id-1 div.sk-estimator:hover label.sk-toggleable__label-arrow:before {color: black;}#sk-container-id-1 div.sk-toggleable__content {max-height: 0;max-width: 0;overflow: hidden;text-align: left;background-color: #f0f8ff;}#sk-container-id-1 div.sk-toggleable__content pre {margin: 0.2em;color: black;border-radius: 0.25em;background-color: #f0f8ff;}#sk-container-id-1 input.sk-toggleable__control:checked~div.sk-toggleable__content {max-height: 200px;max-width: 100%;overflow: auto;}#sk-container-id-1 input.sk-toggleable__control:checked~label.sk-toggleable__label-arrow:before {content: \"▾\";}#sk-container-id-1 div.sk-estimator input.sk-toggleable__control:checked~label.sk-toggleable__label {background-color: #d4ebff;}#sk-container-id-1 div.sk-label input.sk-toggleable__control:checked~label.sk-toggleable__label {background-color: #d4ebff;}#sk-container-id-1 input.sk-hidden--visually {border: 0;clip: rect(1px 1px 1px 1px);clip: rect(1px, 1px, 1px, 1px);height: 1px;margin: -1px;overflow: hidden;padding: 0;position: absolute;width: 1px;}#sk-container-id-1 div.sk-estimator {font-family: monospace;background-color: #f0f8ff;border: 1px dotted black;border-radius: 0.25em;box-sizing: border-box;margin-bottom: 0.5em;}#sk-container-id-1 div.sk-estimator:hover {background-color: #d4ebff;}#sk-container-id-1 div.sk-parallel-item::after {content: \"\";width: 100%;border-bottom: 1px solid gray;flex-grow: 1;}#sk-container-id-1 div.sk-label:hover label.sk-toggleable__label {background-color: #d4ebff;}#sk-container-id-1 div.sk-serial::before {content: \"\";position: absolute;border-left: 1px solid gray;box-sizing: border-box;top: 0;bottom: 0;left: 50%;z-index: 0;}#sk-container-id-1 div.sk-serial {display: flex;flex-direction: column;align-items: center;background-color: white;padding-right: 0.2em;padding-left: 0.2em;position: relative;}#sk-container-id-1 div.sk-item {position: relative;z-index: 1;}#sk-container-id-1 div.sk-parallel {display: flex;align-items: stretch;justify-content: center;background-color: white;position: relative;}#sk-container-id-1 div.sk-item::before, #sk-container-id-1 div.sk-parallel-item::before {content: \"\";position: absolute;border-left: 1px solid gray;box-sizing: border-box;top: 0;bottom: 0;left: 50%;z-index: -1;}#sk-container-id-1 div.sk-parallel-item {display: flex;flex-direction: column;z-index: 1;position: relative;background-color: white;}#sk-container-id-1 div.sk-parallel-item:first-child::after {align-self: flex-end;width: 50%;}#sk-container-id-1 div.sk-parallel-item:last-child::after {align-self: flex-start;width: 50%;}#sk-container-id-1 div.sk-parallel-item:only-child::after {width: 0;}#sk-container-id-1 div.sk-dashed-wrapped {border: 1px dashed gray;margin: 0 0.4em 0.5em 0.4em;box-sizing: border-box;padding-bottom: 0.4em;background-color: white;}#sk-container-id-1 div.sk-label label {font-family: monospace;font-weight: bold;display: inline-block;line-height: 1.2em;}#sk-container-id-1 div.sk-label-container {text-align: center;}#sk-container-id-1 div.sk-container {/* jupyter's `normalize.less` sets `[hidden] { display: none; }` but bootstrap.min.css set `[hidden] { display: none !important; }` so we also need the `!important` here to be able to override the default hidden behavior on the sphinx rendered scikit-learn.org. See: https://github.com/scikit-learn/scikit-learn/issues/21755 */display: inline-block !important;position: relative;}#sk-container-id-1 div.sk-text-repr-fallback {display: none;}</style><div id=\"sk-container-id-1\" class=\"sk-top-container\"><div class=\"sk-text-repr-fallback\"><pre>TfidfVectorizer(max_df=0.9, max_features=2500)</pre><b>In a Jupyter environment, please rerun this cell to show the HTML representation or trust the notebook. <br />On GitHub, the HTML representation is unable to render, please try loading this page with nbviewer.org.</b></div><div class=\"sk-container\" hidden><div class=\"sk-item\"><div class=\"sk-estimator sk-toggleable\"><input class=\"sk-toggleable__control sk-hidden--visually\" id=\"sk-estimator-id-1\" type=\"checkbox\" checked><label for=\"sk-estimator-id-1\" class=\"sk-toggleable__label sk-toggleable__label-arrow\">TfidfVectorizer</label><div class=\"sk-toggleable__content\"><pre>TfidfVectorizer(max_df=0.9, max_features=2500)</pre></div></div></div></div></div>"
            ]
          },
          "metadata": {},
          "execution_count": 8
        }
      ]
    },
    {
      "cell_type": "code",
      "source": [
        "from sklearn.model_selection import train_test_split\n",
        "X_train, X_test, y_train, y_test = train_test_split(X, y, test_size=0.2, random_state=101)\n",
        "\n",
        "X_train_tfidf = vectorizer.transform(X_train)\n",
        "X_test_tfidf = vectorizer.transform(X_test)\n"
      ],
      "metadata": {
        "id": "rEyE-kwIrZiI"
      },
      "id": "rEyE-kwIrZiI",
      "execution_count": 9,
      "outputs": []
    },
    {
      "cell_type": "code",
      "source": [
        "from sklearn.multioutput import MultiOutputClassifier\n",
        "from sklearn.linear_model import LogisticRegression\n",
        "\n",
        "model = MultiOutputClassifier(LogisticRegression()).fit(X_train_tfidf, y_train)"
      ],
      "metadata": {
        "id": "3glj7rlnvgaI"
      },
      "id": "3glj7rlnvgaI",
      "execution_count": 10,
      "outputs": []
    },
    {
      "cell_type": "code",
      "source": [
        "prediction = model.predict(X_test_tfidf)\n",
        "prediction"
      ],
      "metadata": {
        "colab": {
          "base_uri": "https://localhost:8080/"
        },
        "id": "ogm22yBCvjCo",
        "outputId": "75f55720-245b-48d8-a4c2-05b5c2fb09c0"
      },
      "id": "ogm22yBCvjCo",
      "execution_count": 11,
      "outputs": [
        {
          "output_type": "execute_result",
          "data": {
            "text/plain": [
              "array([[0, 0, 0, 0, 0, 0],\n",
              "       [0, 0, 0, 0, 0, 0],\n",
              "       [0, 0, 0, 0, 0, 0],\n",
              "       ...,\n",
              "       [0, 0, 0, 0, 0, 0],\n",
              "       [0, 0, 0, 0, 0, 0],\n",
              "       [0, 0, 0, 0, 0, 0]])"
            ]
          },
          "metadata": {},
          "execution_count": 11
        }
      ]
    },
    {
      "cell_type": "code",
      "source": [
        "from sklearn.metrics import accuracy_score\n",
        "print('Accuracy Score: ', accuracy_score(y_test, prediction))\n",
        "from sklearn.metrics import hamming_loss\n",
        "print('Hamming Loss: ', round(hamming_loss(y_test, prediction),2))"
      ],
      "metadata": {
        "colab": {
          "base_uri": "https://localhost:8080/"
        },
        "id": "FxTJ6WykvlSg",
        "outputId": "336b591c-8535-4f7e-b0a3-a423e654854c"
      },
      "id": "FxTJ6WykvlSg",
      "execution_count": 12,
      "outputs": [
        {
          "output_type": "stream",
          "name": "stdout",
          "text": [
            "Accuracy Score:  0.9053477278433342\n",
            "Hamming Loss:  0.03\n"
          ]
        }
      ]
    },
    {
      "cell_type": "code",
      "source": [
        "from sklearn.metrics import accuracy_score, precision_score, recall_score, f1_score\n",
        "\n",
        "y_pred = model.predict(X_test_tfidf)\n",
        "print('Accuracy:', accuracy_score(y_test, y_pred))\n",
        "print('Precision:', precision_score(y_test, y_pred, average='micro'))\n",
        "print('Recall:', recall_score(y_test, y_pred, average='micro'))\n",
        "print('F1 score:', f1_score(y_test, y_pred, average='micro'))"
      ],
      "metadata": {
        "colab": {
          "base_uri": "https://localhost:8080/"
        },
        "id": "Pw6wV-H9-t7f",
        "outputId": "748fad93-07f3-4956-a388-63025cc2ec0e"
      },
      "id": "Pw6wV-H9-t7f",
      "execution_count": 14,
      "outputs": [
        {
          "output_type": "stream",
          "name": "stdout",
          "text": [
            "Accuracy: 0.9053477278433342\n",
            "Precision: 0.8275862068965517\n",
            "Recall: 0.29171270718232045\n",
            "F1 score: 0.4313725490196078\n"
          ]
        }
      ]
    },
    {
      "cell_type": "code",
      "source": [
        "# Use our trained model to predict\n",
        "def detector(text, model=model):\n",
        "  text = vectorizer.transform([text]).toarray()\n",
        "  prediction = model.predict(text)\n",
        "  print(prediction)\n",
        "  # Assuming that you have a list of labels for each column\n",
        "  column_labels = df.columns[1:]\n",
        "  # Convert binary predictions to labels\n",
        "  predicted_labels = [column_labels[i] for i in range(len(column_labels)) if prediction[0, i] == 1]\n",
        "  print(f'Predicted Labels: {predicted_labels}\\n')\n",
        "\n",
        "\n",
        "detector(\"saya sayang kamu\")\n",
        "detector(\"pergi mati bodoh\")\n",
        "detector(\"orang ini sampah\")\n",
        "detector(\"\")"
      ],
      "metadata": {
        "colab": {
          "base_uri": "https://localhost:8080/"
        },
        "id": "8oqUvKl8vpiQ",
        "outputId": "fae195af-5a64-4ba5-957e-571941c854f3"
      },
      "id": "8oqUvKl8vpiQ",
      "execution_count": 15,
      "outputs": [
        {
          "output_type": "stream",
          "name": "stdout",
          "text": [
            "[[0 0 0 0 0 0]]\n",
            "Predicted Labels: []\n",
            "\n",
            "[[1 0 1 0 1 0]]\n",
            "Predicted Labels: ['toxic', 'obscene', 'insult']\n",
            "\n",
            "[[1 0 0 0 0 0]]\n",
            "Predicted Labels: ['toxic']\n",
            "\n",
            "[[0 0 0 0 0 0]]\n",
            "Predicted Labels: []\n",
            "\n"
          ]
        }
      ]
    },
    {
      "cell_type": "code",
      "source": [
        "import joblib\n",
        "# saving our model # model - model , filename-model_jlib\n",
        "joblib.dump(model , 'model_jlib')"
      ],
      "metadata": {
        "id": "KTJV-QQ2N43b"
      },
      "id": "KTJV-QQ2N43b",
      "execution_count": null,
      "outputs": []
    },
    {
      "cell_type": "code",
      "source": [
        "with open('model_pkl', 'wb') as files:\n",
        "    pickle.dump(model, files)"
      ],
      "metadata": {
        "id": "K5lERhcSSoZw"
      },
      "id": "K5lERhcSSoZw",
      "execution_count": null,
      "outputs": []
    },
    {
      "cell_type": "code",
      "source": [
        "with open('vectorizer.pkl', 'wb') as file:\n",
        "    pickle.dump(vectorizer, file)"
      ],
      "metadata": {
        "id": "fGC0nDPgtmxp"
      },
      "id": "fGC0nDPgtmxp",
      "execution_count": null,
      "outputs": []
    }
  ],
  "metadata": {
    "kernelspec": {
      "display_name": "Python 3 (ipykernel)",
      "language": "python",
      "name": "python3"
    },
    "language_info": {
      "codemirror_mode": {
        "name": "ipython",
        "version": 3
      },
      "file_extension": ".py",
      "mimetype": "text/x-python",
      "name": "python",
      "nbconvert_exporter": "python",
      "pygments_lexer": "ipython3",
      "version": "3.9.7"
    },
    "colab": {
      "provenance": []
    }
  },
  "nbformat": 4,
  "nbformat_minor": 5
}